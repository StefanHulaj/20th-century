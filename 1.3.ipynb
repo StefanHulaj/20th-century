{
 "cells": [
  {
   "cell_type": "code",
   "execution_count": 1,
   "id": "b4ce2b73-abf7-46bf-8c73-a944b4624ec7",
   "metadata": {},
   "outputs": [
    {
     "name": "stdout",
     "output_type": "stream",
     "text": [
      "Stefan\n"
     ]
    }
   ],
   "source": [
    "print(\"Stefan\")"
   ]
  },
  {
   "cell_type": "code",
   "execution_count": 2,
   "id": "a9ee6cfd-e828-4352-8adc-9b498a7af0fa",
   "metadata": {},
   "outputs": [
    {
     "name": "stdout",
     "output_type": "stream",
     "text": [
      "   Num_Col Letter_Col\n",
      "0       48          K\n",
      "1       25          b\n",
      "2       47          Z\n",
      "3       39          R\n",
      "4       97          J\n"
     ]
    }
   ],
   "source": [
    "import pandas as pd\n",
    "import numpy as np\n",
    "import random\n",
    "import string\n",
    "\n",
    "num_rows = 5\n",
    "num_cols_numbers = 1\n",
    "num_cols_letters = 1\n",
    "\n",
    "random_numbers = np.random.randint(0, 100, size=(num_rows, num_cols_numbers))\n",
    "df_numbers = pd.DataFrame(random_numbers, columns=[f'Num_Col' for i in range(num_cols_numbers)])\n",
    "\n",
    "def generate_random_string(length=1):\n",
    "    letters = string.ascii_letters\n",
    "    return ''.join(random.choice(letters) for i in range(length))\n",
    "\n",
    "random_letters_data = [[generate_random_string() for _ in range(num_cols_letters)] for _ in range(num_rows)]\n",
    "df_letters = pd.DataFrame(random_letters_data, columns=[f'Letter_Col' for i in range(num_cols_letters)])\n",
    "\n",
    "df_combined = pd.concat([df_numbers, df_letters], axis=1)\n",
    "\n",
    "print(df_combined)"
   ]
  },
  {
   "cell_type": "code",
   "execution_count": 3,
   "id": "054c5212-94d8-48f1-83fa-300c36a31005",
   "metadata": {},
   "outputs": [],
   "source": [
    "divide_2 = lambda x: x/5"
   ]
  },
  {
   "cell_type": "code",
   "execution_count": 4,
   "id": "8fff691d-4716-42a0-8c62-7fef25dbfa6c",
   "metadata": {},
   "outputs": [],
   "source": [
    "df_combined['Divide_by_Five'] = divide_2(df_numbers['Num_Col'])"
   ]
  },
  {
   "cell_type": "code",
   "execution_count": 5,
   "id": "da20b916-1cf3-471a-80cf-9bfb9c9ca650",
   "metadata": {
    "scrolled": true
   },
   "outputs": [
    {
     "name": "stdout",
     "output_type": "stream",
     "text": [
      "   Num_Col Letter_Col  Divide_by_Five\n",
      "0       48          K             9.6\n",
      "1       25          b             5.0\n",
      "2       47          Z             9.4\n",
      "3       39          R             7.8\n",
      "4       97          J            19.4\n"
     ]
    }
   ],
   "source": [
    "print(df_combined)"
   ]
  },
  {
   "cell_type": "code",
   "execution_count": 6,
   "id": "fc76e332-def0-46f0-833d-3212c76e3463",
   "metadata": {},
   "outputs": [
    {
     "data": {
      "text/html": [
       "<div>\n",
       "<style scoped>\n",
       "    .dataframe tbody tr th:only-of-type {\n",
       "        vertical-align: middle;\n",
       "    }\n",
       "\n",
       "    .dataframe tbody tr th {\n",
       "        vertical-align: top;\n",
       "    }\n",
       "\n",
       "    .dataframe thead th {\n",
       "        text-align: right;\n",
       "    }\n",
       "</style>\n",
       "<table border=\"1\" class=\"dataframe\">\n",
       "  <thead>\n",
       "    <tr style=\"text-align: right;\">\n",
       "      <th></th>\n",
       "      <th>Num_Col</th>\n",
       "      <th>Letter_Col</th>\n",
       "      <th>Divide_by_Five</th>\n",
       "      <th>Over_50</th>\n",
       "    </tr>\n",
       "  </thead>\n",
       "  <tbody>\n",
       "    <tr>\n",
       "      <th>0</th>\n",
       "      <td>48</td>\n",
       "      <td>K</td>\n",
       "      <td>9.6</td>\n",
       "      <td>Under 50</td>\n",
       "    </tr>\n",
       "    <tr>\n",
       "      <th>1</th>\n",
       "      <td>25</td>\n",
       "      <td>b</td>\n",
       "      <td>5.0</td>\n",
       "      <td>Under 50</td>\n",
       "    </tr>\n",
       "    <tr>\n",
       "      <th>2</th>\n",
       "      <td>47</td>\n",
       "      <td>Z</td>\n",
       "      <td>9.4</td>\n",
       "      <td>Under 50</td>\n",
       "    </tr>\n",
       "    <tr>\n",
       "      <th>3</th>\n",
       "      <td>39</td>\n",
       "      <td>R</td>\n",
       "      <td>7.8</td>\n",
       "      <td>Under 50</td>\n",
       "    </tr>\n",
       "    <tr>\n",
       "      <th>4</th>\n",
       "      <td>97</td>\n",
       "      <td>J</td>\n",
       "      <td>19.4</td>\n",
       "      <td>Over 50</td>\n",
       "    </tr>\n",
       "  </tbody>\n",
       "</table>\n",
       "</div>"
      ],
      "text/plain": [
       "   Num_Col Letter_Col  Divide_by_Five   Over_50\n",
       "0       48          K             9.6  Under 50\n",
       "1       25          b             5.0  Under 50\n",
       "2       47          Z             9.4  Under 50\n",
       "3       39          R             7.8  Under 50\n",
       "4       97          J            19.4   Over 50"
      ]
     },
     "execution_count": 6,
     "metadata": {},
     "output_type": "execute_result"
    }
   ],
   "source": [
    "df_combined['Over_50'] = df_combined['Num_Col'].apply(lambda x: 'Over 50' if x > 50 else 'Under 50')\n",
    "df_combined"
   ]
  }
 ],
 "metadata": {
  "kernelspec": {
   "display_name": "20th_century",
   "language": "python",
   "name": "python3"
  },
  "language_info": {
   "codemirror_mode": {
    "name": "ipython",
    "version": 3
   },
   "file_extension": ".py",
   "mimetype": "text/x-python",
   "name": "python",
   "nbconvert_exporter": "python",
   "pygments_lexer": "ipython3",
   "version": "3.13.7"
  }
 },
 "nbformat": 4,
 "nbformat_minor": 5
}
