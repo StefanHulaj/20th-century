{
 "cells": [
  {
   "cell_type": "code",
   "execution_count": 115,
   "id": "25a8ebf8-92f0-4eaa-a253-b743b93c4c12",
   "metadata": {},
   "outputs": [
    {
     "name": "stdout",
     "output_type": "stream",
     "text": [
      "\n",
      "\u001b[38;5;1m✘ No compatible package found for 'en_core-web_sm' (spaCy v3.8.7)\u001b[0m\n",
      "\n"
     ]
    }
   ],
   "source": [
    "import pandas as pd \n",
    "import numpy as np\n",
    "import spacy\n",
    "from spacy import displacy\n",
    "from spacy.lang.en import English\n",
    "import networkx as nx\n",
    "import os\n",
    "import matplotlib.pyplot as plt\n",
    "import scipy\n",
    "import re\n",
    "\n",
    "!python -m spacy download en_core-web_sm"
   ]
  },
  {
   "cell_type": "code",
   "execution_count": 116,
   "id": "f9c61db2-69d8-4a7e-b3ef-fb373bbf81d9",
   "metadata": {},
   "outputs": [],
   "source": [
    "# Load spacy English module\n",
    "\n",
    "NER = spacy.load(\"en_core_web_sm\")"
   ]
  },
  {
   "cell_type": "code",
   "execution_count": 117,
   "id": "527b40a4-b85b-4583-ad93-7874b4e6dea2",
   "metadata": {},
   "outputs": [],
   "source": [
    "with open('20th_century_article_Wiki.txt', 'r', errors='ignore') as file: \n",
    "   data = file.read().replace( '\\n', ' ')\n",
    "\n",
    "wiki = NER(data)"
   ]
  },
  {
   "cell_type": "markdown",
   "id": "a7a8ca53-f112-49c3-9d0c-e01613ec5360",
   "metadata": {},
   "source": [
    "# Visualize identified entities\n",
    "\n",
    "displacy.render(wiki[273:20000], style = \"ent\", jupyter = True)"
   ]
  },
  {
   "cell_type": "code",
   "execution_count": 118,
   "id": "874f6bef-14e2-4264-840b-d2af186695db",
   "metadata": {},
   "outputs": [],
   "source": [
    "# Loop through sentences, get entity list for each sentence\n",
    "wiki_hold = []\n",
    "for sent in wiki.sents:\n",
    "       entity_list = [ent.text for ent in sent.ents]\n",
    "       wiki_hold.append({'sentence': sent, 'entities': entity_list})\n",
    "\n",
    "df_sentences = pd.DataFrame(wiki_hold)"
   ]
  },
  {
   "cell_type": "code",
   "execution_count": 119,
   "id": "5308a05a-bdb8-4a8e-b937-4b0e922f343f",
   "metadata": {},
   "outputs": [
    {
     "data": {
      "text/html": [
       "<div>\n",
       "<style scoped>\n",
       "    .dataframe tbody tr th:only-of-type {\n",
       "        vertical-align: middle;\n",
       "    }\n",
       "\n",
       "    .dataframe tbody tr th {\n",
       "        vertical-align: top;\n",
       "    }\n",
       "\n",
       "    .dataframe thead th {\n",
       "        text-align: right;\n",
       "    }\n",
       "</style>\n",
       "<table border=\"1\" class=\"dataframe\">\n",
       "  <thead>\n",
       "    <tr style=\"text-align: right;\">\n",
       "      <th></th>\n",
       "      <th>sentence</th>\n",
       "      <th>entities</th>\n",
       "    </tr>\n",
       "  </thead>\n",
       "  <tbody>\n",
       "    <tr>\n",
       "      <th>0</th>\n",
       "      <td>(    , Key, events, of, the, 20th, century, -,...</td>\n",
       "      <td>[the 20th century]</td>\n",
       "    </tr>\n",
       "    <tr>\n",
       "      <th>1</th>\n",
       "      <td>(articleAbout, WikipediaContact, us,      \\t\\t...</td>\n",
       "      <td>[Search            Search                     ...</td>\n",
       "    </tr>\n",
       "    <tr>\n",
       "      <th>2</th>\n",
       "      <td>(The, rise, of, dictatorship,           , 1.4,...</td>\n",
       "      <td>[1.4, World War II, 1.4.1]</td>\n",
       "    </tr>\n",
       "    <tr>\n",
       "      <th>3</th>\n",
       "      <td>(The, war, in, Europe,         , 1.4.2, Blitzk...</td>\n",
       "      <td>[Europe, 1.4.2, Blitzkrieg         1.4.3, Oper...</td>\n",
       "    </tr>\n",
       "    <tr>\n",
       "      <th>4</th>\n",
       "      <td>(Turning, tides,         )</td>\n",
       "      <td>[]</td>\n",
       "    </tr>\n",
       "    <tr>\n",
       "      <th>5</th>\n",
       "      <td>(1.4.5, Operation, Overlord,         , 1.4.6, ...</td>\n",
       "      <td>[Operation Overlord         1.4.6 Final days  ...</td>\n",
       "    </tr>\n",
       "    <tr>\n",
       "      <th>6</th>\n",
       "      <td>(Allied, offensive,         , 1.4.10, Final, d...</td>\n",
       "      <td>[Allied offensive         1.4.10 Final days   ...</td>\n",
       "    </tr>\n",
       "    <tr>\n",
       "      <th>7</th>\n",
       "      <td>(The, Holocaust,         , 1.4.12, The, Nuclea...</td>\n",
       "      <td>[The Nuclear Age, 1.5]</td>\n",
       "    </tr>\n",
       "    <tr>\n",
       "      <th>8</th>\n",
       "      <td>(The, post, -, war, world,       , 1.5.1)</td>\n",
       "      <td>[1.5.1]</td>\n",
       "    </tr>\n",
       "    <tr>\n",
       "      <th>9</th>\n",
       "      <td>(The, end, of, empires, :, decolonization,    ...</td>\n",
       "      <td>[The Cold War, 1947â€“1991]</td>\n",
       "    </tr>\n",
       "  </tbody>\n",
       "</table>\n",
       "</div>"
      ],
      "text/plain": [
       "                                            sentence  \\\n",
       "0  (    , Key, events, of, the, 20th, century, -,...   \n",
       "1  (articleAbout, WikipediaContact, us,      \\t\\t...   \n",
       "2  (The, rise, of, dictatorship,           , 1.4,...   \n",
       "3  (The, war, in, Europe,         , 1.4.2, Blitzk...   \n",
       "4                         (Turning, tides,         )   \n",
       "5  (1.4.5, Operation, Overlord,         , 1.4.6, ...   \n",
       "6  (Allied, offensive,         , 1.4.10, Final, d...   \n",
       "7  (The, Holocaust,         , 1.4.12, The, Nuclea...   \n",
       "8          (The, post, -, war, world,       , 1.5.1)   \n",
       "9  (The, end, of, empires, :, decolonization,    ...   \n",
       "\n",
       "                                            entities  \n",
       "0                                 [the 20th century]  \n",
       "1  [Search            Search                     ...  \n",
       "2                         [1.4, World War II, 1.4.1]  \n",
       "3  [Europe, 1.4.2, Blitzkrieg         1.4.3, Oper...  \n",
       "4                                                 []  \n",
       "5  [Operation Overlord         1.4.6 Final days  ...  \n",
       "6  [Allied offensive         1.4.10 Final days   ...  \n",
       "7                             [The Nuclear Age, 1.5]  \n",
       "8                                            [1.5.1]  \n",
       "9                        [The Cold War, 1947â€“1991]  "
      ]
     },
     "execution_count": 119,
     "metadata": {},
     "output_type": "execute_result"
    }
   ],
   "source": [
    "df_sentences.head(10)"
   ]
  },
  {
   "cell_type": "code",
   "execution_count": 120,
   "id": "58100abc-e9de-46bf-8efe-991ce28037cc",
   "metadata": {},
   "outputs": [],
   "source": [
    "csv_filepath = r\"C:\\Users\\stefa\\20th-century\\countries_list_20th_century_1.5.csv\""
   ]
  },
  {
   "cell_type": "code",
   "execution_count": 121,
   "id": "4e37c24a-1732-4266-9313-39fec8465aed",
   "metadata": {},
   "outputs": [],
   "source": [
    "df = pd.read_csv(csv_filepath)"
   ]
  },
  {
   "cell_type": "code",
   "execution_count": 122,
   "id": "76056326-573f-4cb8-8123-a14b312442e0",
   "metadata": {},
   "outputs": [
    {
     "data": {
      "text/html": [
       "<div>\n",
       "<style scoped>\n",
       "    .dataframe tbody tr th:only-of-type {\n",
       "        vertical-align: middle;\n",
       "    }\n",
       "\n",
       "    .dataframe tbody tr th {\n",
       "        vertical-align: top;\n",
       "    }\n",
       "\n",
       "    .dataframe thead th {\n",
       "        text-align: right;\n",
       "    }\n",
       "</style>\n",
       "<table border=\"1\" class=\"dataframe\">\n",
       "  <thead>\n",
       "    <tr style=\"text-align: right;\">\n",
       "      <th></th>\n",
       "      <th>country_name</th>\n",
       "    </tr>\n",
       "  </thead>\n",
       "  <tbody>\n",
       "    <tr>\n",
       "      <th>0</th>\n",
       "      <td>Afghanistan</td>\n",
       "    </tr>\n",
       "    <tr>\n",
       "      <th>1</th>\n",
       "      <td>Albania</td>\n",
       "    </tr>\n",
       "    <tr>\n",
       "      <th>2</th>\n",
       "      <td>Algeria</td>\n",
       "    </tr>\n",
       "    <tr>\n",
       "      <th>3</th>\n",
       "      <td>Andorra</td>\n",
       "    </tr>\n",
       "    <tr>\n",
       "      <th>4</th>\n",
       "      <td>Angola</td>\n",
       "    </tr>\n",
       "    <tr>\n",
       "      <th>...</th>\n",
       "      <td>...</td>\n",
       "    </tr>\n",
       "    <tr>\n",
       "      <th>204</th>\n",
       "      <td>Sahrawi Arab Democratic Republic</td>\n",
       "    </tr>\n",
       "    <tr>\n",
       "      <th>205</th>\n",
       "      <td>Somaliland</td>\n",
       "    </tr>\n",
       "    <tr>\n",
       "      <th>206</th>\n",
       "      <td>South Ossetia</td>\n",
       "    </tr>\n",
       "    <tr>\n",
       "      <th>207</th>\n",
       "      <td>Taiwan</td>\n",
       "    </tr>\n",
       "    <tr>\n",
       "      <th>208</th>\n",
       "      <td>Transnistria</td>\n",
       "    </tr>\n",
       "  </tbody>\n",
       "</table>\n",
       "<p>209 rows × 1 columns</p>\n",
       "</div>"
      ],
      "text/plain": [
       "                             country_name\n",
       "0                            Afghanistan \n",
       "1                                Albania \n",
       "2                                Algeria \n",
       "3                                Andorra \n",
       "4                                 Angola \n",
       "..                                    ...\n",
       "204     Sahrawi Arab Democratic Republic \n",
       "205                           Somaliland \n",
       "206                        South Ossetia \n",
       "207                               Taiwan \n",
       "208                          Transnistria\n",
       "\n",
       "[209 rows x 1 columns]"
      ]
     },
     "execution_count": 122,
     "metadata": {},
     "output_type": "execute_result"
    }
   ],
   "source": [
    "df = df.drop('Unnamed: 0', axis=1)\n",
    "df"
   ]
  },
  {
   "cell_type": "code",
   "execution_count": 123,
   "id": "d26ede8a",
   "metadata": {},
   "outputs": [
    {
     "name": "stdout",
     "output_type": "stream",
     "text": [
      "                         country_name\n",
      "0                         Afghanistan\n",
      "1                             Albania\n",
      "2                             Algeria\n",
      "3                             Andorra\n",
      "4                              Angola\n",
      "..                                ...\n",
      "204  Sahrawi Arab Democratic Republic\n",
      "205                        Somaliland\n",
      "206                     South Ossetia\n",
      "207                            Taiwan\n",
      "208                      Transnistria\n",
      "\n",
      "[209 rows x 1 columns]\n"
     ]
    },
    {
     "name": "stderr",
     "output_type": "stream",
     "text": [
      "C:\\Users\\stefa\\AppData\\Local\\Temp\\ipykernel_23708\\2503647563.py:3: FutureWarning: DataFrame.applymap has been deprecated. Use DataFrame.map instead.\n",
      "  df = df.applymap(lambda x: x.strip() if isinstance(x, str) else x)\n"
     ]
    }
   ],
   "source": [
    "#df['country_name'] = df['country_name'].str.replace()\n",
    "#df['country_name'] = df['country_name'].str.replace(r'\\s+', '', regex=True)\n",
    "df = df.applymap(lambda x: x.strip() if isinstance(x, str) else x)\n",
    "df_new = df\n",
    "print(df_new)"
   ]
  },
  {
   "cell_type": "code",
   "execution_count": 124,
   "id": "fd8006e7-5399-4aa7-a6a9-e88cc274b194",
   "metadata": {},
   "outputs": [],
   "source": [
    "def filter_entity(ent_list, df_new):\n",
    "       return [ent for ent in ent_list\n",
    "                  if ent in list(df_new['country_name'])]"
   ]
  },
  {
   "cell_type": "code",
   "execution_count": 125,
   "id": "3d55b8f3-f629-4950-8190-bac3b1868db4",
   "metadata": {},
   "outputs": [],
   "source": [
    "df_sentences['country_entities'] = df_sentences['entities'].apply(lambda x: filter_entity(x, df_new))"
   ]
  },
  {
   "cell_type": "code",
   "execution_count": 126,
   "id": "559cedad-ffe1-4631-a587-d4cf9717d6e6",
   "metadata": {},
   "outputs": [
    {
     "data": {
      "text/html": [
       "<div>\n",
       "<style scoped>\n",
       "    .dataframe tbody tr th:only-of-type {\n",
       "        vertical-align: middle;\n",
       "    }\n",
       "\n",
       "    .dataframe tbody tr th {\n",
       "        vertical-align: top;\n",
       "    }\n",
       "\n",
       "    .dataframe thead th {\n",
       "        text-align: right;\n",
       "    }\n",
       "</style>\n",
       "<table border=\"1\" class=\"dataframe\">\n",
       "  <thead>\n",
       "    <tr style=\"text-align: right;\">\n",
       "      <th></th>\n",
       "      <th>sentence</th>\n",
       "      <th>entities</th>\n",
       "      <th>country_entities</th>\n",
       "    </tr>\n",
       "  </thead>\n",
       "  <tbody>\n",
       "    <tr>\n",
       "      <th>1117</th>\n",
       "      <td>(\", The, forgotten, violence, that, helped, In...</td>\n",
       "      <td>[India]</td>\n",
       "      <td>[India]</td>\n",
       "    </tr>\n",
       "    <tr>\n",
       "      <th>1122</th>\n",
       "      <td>(\", Indian, Independence, Day, :, everything, ...</td>\n",
       "      <td>[Indian Independence Day, Partition between In...</td>\n",
       "      <td>[Pakistan]</td>\n",
       "    </tr>\n",
       "    <tr>\n",
       "      <th>1131</th>\n",
       "      <td>(^, \", The, Philippines, ,, 1898â€“1946, |, US...</td>\n",
       "      <td>[Philippines, 1898â€“1946, US House of Represe...</td>\n",
       "      <td>[Philippines]</td>\n",
       "    </tr>\n",
       "    <tr>\n",
       "      <th>1161</th>\n",
       "      <td>(\", Colonial, Cartographies, ,, Postcolonial, ...</td>\n",
       "      <td>[Colonial Cartographies, Postcolonial Borders,...</td>\n",
       "      <td>[Afghanistan]</td>\n",
       "    </tr>\n",
       "    <tr>\n",
       "      <th>1199</th>\n",
       "      <td>(The, Moldovans, :, Romania, ,, Russia, ,, and...</td>\n",
       "      <td>[Moldovans, Romania, Russia, the Politics of C...</td>\n",
       "      <td>[Romania, Russia]</td>\n",
       "    </tr>\n",
       "    <tr>\n",
       "      <th>1263</th>\n",
       "      <td>(\", Selling, ', Operation, Passage, to, Freedo...</td>\n",
       "      <td>[Thomas Dooley, the Religious Overtones of Ear...</td>\n",
       "      <td>[Vietnam]</td>\n",
       "    </tr>\n",
       "    <tr>\n",
       "      <th>1294</th>\n",
       "      <td>(\", Stuck, in, Endless, Preliminaries, :, Viet...</td>\n",
       "      <td>[Stuck in Endless Preliminaries, Vietnam, the ...</td>\n",
       "      <td>[Vietnam]</td>\n",
       "    </tr>\n",
       "    <tr>\n",
       "      <th>1569</th>\n",
       "      <td>(\", Anti, -, American, Behavior, in, the, Midd...</td>\n",
       "      <td>[Anti-American Behavior, the Middle East, a Fi...</td>\n",
       "      <td>[Lebanon]</td>\n",
       "    </tr>\n",
       "    <tr>\n",
       "      <th>1575</th>\n",
       "      <td>(The, Rise, of, China, and, India, :, A, New, ...</td>\n",
       "      <td>[India, New Asian]</td>\n",
       "      <td>[India]</td>\n",
       "    </tr>\n",
       "    <tr>\n",
       "      <th>1576</th>\n",
       "      <td>(Singapore, :, World, Scientific, .)</td>\n",
       "      <td>[Singapore, World Scientific]</td>\n",
       "      <td>[Singapore]</td>\n",
       "    </tr>\n",
       "  </tbody>\n",
       "</table>\n",
       "</div>"
      ],
      "text/plain": [
       "                                               sentence  \\\n",
       "1117  (\", The, forgotten, violence, that, helped, In...   \n",
       "1122  (\", Indian, Independence, Day, :, everything, ...   \n",
       "1131  (^, \", The, Philippines, ,, 1898â€“1946, |, US...   \n",
       "1161  (\", Colonial, Cartographies, ,, Postcolonial, ...   \n",
       "1199  (The, Moldovans, :, Romania, ,, Russia, ,, and...   \n",
       "1263  (\", Selling, ', Operation, Passage, to, Freedo...   \n",
       "1294  (\", Stuck, in, Endless, Preliminaries, :, Viet...   \n",
       "1569  (\", Anti, -, American, Behavior, in, the, Midd...   \n",
       "1575  (The, Rise, of, China, and, India, :, A, New, ...   \n",
       "1576               (Singapore, :, World, Scientific, .)   \n",
       "\n",
       "                                               entities   country_entities  \n",
       "1117                                            [India]            [India]  \n",
       "1122  [Indian Independence Day, Partition between In...         [Pakistan]  \n",
       "1131  [Philippines, 1898â€“1946, US House of Represe...      [Philippines]  \n",
       "1161  [Colonial Cartographies, Postcolonial Borders,...      [Afghanistan]  \n",
       "1199  [Moldovans, Romania, Russia, the Politics of C...  [Romania, Russia]  \n",
       "1263  [Thomas Dooley, the Religious Overtones of Ear...          [Vietnam]  \n",
       "1294  [Stuck in Endless Preliminaries, Vietnam, the ...          [Vietnam]  \n",
       "1569  [Anti-American Behavior, the Middle East, a Fi...          [Lebanon]  \n",
       "1575                                 [India, New Asian]            [India]  \n",
       "1576                      [Singapore, World Scientific]        [Singapore]  "
      ]
     },
     "execution_count": 126,
     "metadata": {},
     "output_type": "execute_result"
    }
   ],
   "source": [
    "# Filter out sentences that don’t have any character entities\n",
    "\n",
    "df_sentences_filtered = df_sentences[df_sentences['country_entities'].map(len) > 0]\n",
    "\n",
    "df_sentences_filtered.tail(10)"
   ]
  },
  {
   "cell_type": "code",
   "execution_count": null,
   "id": "d6da0d70",
   "metadata": {},
   "outputs": [],
   "source": [
    "# Defining relationships\n",
    "\n",
    "# window size = 5 : this defines how many sentences will be looked at simultaneously\n",
    "relationships = [] # create an empty list\n",
    "\n",
    "for i in range(df_sentences_filtered.index[-1]):\n",
    "     end_i = min(i+5, df_sentences_filtered.index[-1])\n",
    "     country_list = sum((df_sentences_filtered.loc[i: end_i].country_entities), [])\n",
    "\n",
    "     # Remove duplicated characters that are next to each other\n",
    "     country_unique = [country_list[i] for i in range(len(country_list))\n",
    "                             if (i==0) or country_list[i] != country_list[i-1]]\n",
    "\n",
    "if len(country_unique) > 1:\n",
    "    for idx, a in enumerate(country_unique[ :-1]):\n",
    "          b = country_unique[idx + 1]\n",
    "          relationships.append({\"source\": a, \" target\": b})"
   ]
  },
  {
   "cell_type": "code",
   "execution_count": 128,
   "id": "ac317302",
   "metadata": {},
   "outputs": [
    {
     "data": {
      "text/html": [
       "<div>\n",
       "<style scoped>\n",
       "    .dataframe tbody tr th:only-of-type {\n",
       "        vertical-align: middle;\n",
       "    }\n",
       "\n",
       "    .dataframe tbody tr th {\n",
       "        vertical-align: top;\n",
       "    }\n",
       "\n",
       "    .dataframe thead th {\n",
       "        text-align: right;\n",
       "    }\n",
       "</style>\n",
       "<table border=\"1\" class=\"dataframe\">\n",
       "  <thead>\n",
       "    <tr style=\"text-align: right;\">\n",
       "      <th></th>\n",
       "      <th>source</th>\n",
       "      <th>target</th>\n",
       "    </tr>\n",
       "  </thead>\n",
       "  <tbody>\n",
       "    <tr>\n",
       "      <th>0</th>\n",
       "      <td>India</td>\n",
       "      <td>Singapore</td>\n",
       "    </tr>\n",
       "  </tbody>\n",
       "</table>\n",
       "</div>"
      ],
      "text/plain": [
       "  source     target\n",
       "0  India  Singapore"
      ]
     },
     "execution_count": 128,
     "metadata": {},
     "output_type": "execute_result"
    }
   ],
   "source": [
    "relationship_df = pd.DataFrame(relationships)\n",
    "\n",
    "relationship_df"
   ]
  }
 ],
 "metadata": {
  "kernelspec": {
   "display_name": "20th_century",
   "language": "python",
   "name": "python3"
  },
  "language_info": {
   "codemirror_mode": {
    "name": "ipython",
    "version": 3
   },
   "file_extension": ".py",
   "mimetype": "text/x-python",
   "name": "python",
   "nbconvert_exporter": "python",
   "pygments_lexer": "ipython3",
   "version": "3.13.7"
  }
 },
 "nbformat": 4,
 "nbformat_minor": 5
}
