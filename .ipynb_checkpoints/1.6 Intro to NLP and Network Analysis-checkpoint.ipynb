{
 "cells": [
  {
   "cell_type": "code",
   "execution_count": 1,
   "id": "25a8ebf8-92f0-4eaa-a253-b743b93c4c12",
   "metadata": {},
   "outputs": [
    {
     "name": "stderr",
     "output_type": "stream",
     "text": [
      "C:\\Users\\stefa\\anaconda3\\python.exe: No module named spacy\n"
     ]
    }
   ],
   "source": [
    "import pandas as pd \n",
    "import numpy as np\n",
    "import spacy\n",
    "from spacy import displacy\n",
    "from spacy.lang.en import English\n",
    "import networkx as nx\n",
    "import os\n",
    "import matplotlib.pyplot as plt\n",
    "import scipy\n",
    "import re\n",
    "\n",
    "!python -m spacy download en_core-web_sm"
   ]
  },
  {
   "cell_type": "code",
   "execution_count": 2,
   "id": "f9c61db2-69d8-4a7e-b3ef-fb373bbf81d9",
   "metadata": {},
   "outputs": [],
   "source": [
    "# Load spacy English module\n",
    "\n",
    "NER = spacy.load(\"en_core_web_sm\")"
   ]
  },
  {
   "cell_type": "code",
   "execution_count": 3,
   "id": "527b40a4-b85b-4583-ad93-7874b4e6dea2",
   "metadata": {},
   "outputs": [],
   "source": [
    "with open('20th_century_article_Wiki.txt', 'r', errors='ignore') as file: \n",
    "   data = file.read().replace( '\\n', ' ')\n",
    "\n",
    "wiki = NER(data)"
   ]
  },
  {
   "cell_type": "markdown",
   "id": "a7a8ca53-f112-49c3-9d0c-e01613ec5360",
   "metadata": {},
   "source": [
    "# Visualize identified entities\n",
    "\n",
    "displacy.render(wiki[273:20000], style = \"ent\", jupyter = True)"
   ]
  },
  {
   "cell_type": "code",
   "execution_count": 4,
   "id": "874f6bef-14e2-4264-840b-d2af186695db",
   "metadata": {},
   "outputs": [],
   "source": [
    "# Loop through sentences, get entity list for each sentence\n",
    "wiki_hold = []\n",
    "for sent in wiki.sents:\n",
    "       entity_list = [ent.text for ent in sent.ents]\n",
    "       wiki_hold.append({'sentence': sent, 'entities': entity_list})\n",
    "\n",
    "df_sentences = pd.DataFrame(wiki_hold)"
   ]
  },
  {
   "cell_type": "code",
   "execution_count": 5,
   "id": "5308a05a-bdb8-4a8e-b937-4b0e922f343f",
   "metadata": {},
   "outputs": [
    {
     "data": {
      "text/html": [
       "<div>\n",
       "<style scoped>\n",
       "    .dataframe tbody tr th:only-of-type {\n",
       "        vertical-align: middle;\n",
       "    }\n",
       "\n",
       "    .dataframe tbody tr th {\n",
       "        vertical-align: top;\n",
       "    }\n",
       "\n",
       "    .dataframe thead th {\n",
       "        text-align: right;\n",
       "    }\n",
       "</style>\n",
       "<table border=\"1\" class=\"dataframe\">\n",
       "  <thead>\n",
       "    <tr style=\"text-align: right;\">\n",
       "      <th></th>\n",
       "      <th>sentence</th>\n",
       "      <th>entities</th>\n",
       "    </tr>\n",
       "  </thead>\n",
       "  <tbody>\n",
       "    <tr>\n",
       "      <th>0</th>\n",
       "      <td>(    , Key, events, of, the, 20th, century, -,...</td>\n",
       "      <td>[the 20th century]</td>\n",
       "    </tr>\n",
       "    <tr>\n",
       "      <th>1</th>\n",
       "      <td>(articleAbout, WikipediaContact, us,      \\t\\t...</td>\n",
       "      <td>[Search            Search                     ...</td>\n",
       "    </tr>\n",
       "    <tr>\n",
       "      <th>2</th>\n",
       "      <td>(The, rise, of, dictatorship,           , 1.4,...</td>\n",
       "      <td>[1.4, World War II, 1.4.1]</td>\n",
       "    </tr>\n",
       "    <tr>\n",
       "      <th>3</th>\n",
       "      <td>(The, war, in, Europe,         , 1.4.2, Blitzk...</td>\n",
       "      <td>[Europe, 1.4.2, Blitzkrieg         1.4.3, Oper...</td>\n",
       "    </tr>\n",
       "    <tr>\n",
       "      <th>4</th>\n",
       "      <td>(Turning, tides,         )</td>\n",
       "      <td>[]</td>\n",
       "    </tr>\n",
       "    <tr>\n",
       "      <th>5</th>\n",
       "      <td>(1.4.5, Operation, Overlord,         , 1.4.6, ...</td>\n",
       "      <td>[Operation Overlord         1.4.6 Final days  ...</td>\n",
       "    </tr>\n",
       "    <tr>\n",
       "      <th>6</th>\n",
       "      <td>(Allied, offensive,         , 1.4.10, Final, d...</td>\n",
       "      <td>[Allied offensive         1.4.10 Final days   ...</td>\n",
       "    </tr>\n",
       "    <tr>\n",
       "      <th>7</th>\n",
       "      <td>(The, Holocaust,         , 1.4.12, The, Nuclea...</td>\n",
       "      <td>[The Nuclear Age, 1.5]</td>\n",
       "    </tr>\n",
       "    <tr>\n",
       "      <th>8</th>\n",
       "      <td>(The, post, -, war, world,       , 1.5.1)</td>\n",
       "      <td>[1.5.1]</td>\n",
       "    </tr>\n",
       "    <tr>\n",
       "      <th>9</th>\n",
       "      <td>(The, end, of, empires, :, decolonization,    ...</td>\n",
       "      <td>[The Cold War, 1947â€“1991]</td>\n",
       "    </tr>\n",
       "  </tbody>\n",
       "</table>\n",
       "</div>"
      ],
      "text/plain": [
       "                                            sentence  \\\n",
       "0  (    , Key, events, of, the, 20th, century, -,...   \n",
       "1  (articleAbout, WikipediaContact, us,      \\t\\t...   \n",
       "2  (The, rise, of, dictatorship,           , 1.4,...   \n",
       "3  (The, war, in, Europe,         , 1.4.2, Blitzk...   \n",
       "4                         (Turning, tides,         )   \n",
       "5  (1.4.5, Operation, Overlord,         , 1.4.6, ...   \n",
       "6  (Allied, offensive,         , 1.4.10, Final, d...   \n",
       "7  (The, Holocaust,         , 1.4.12, The, Nuclea...   \n",
       "8          (The, post, -, war, world,       , 1.5.1)   \n",
       "9  (The, end, of, empires, :, decolonization,    ...   \n",
       "\n",
       "                                            entities  \n",
       "0                                 [the 20th century]  \n",
       "1  [Search            Search                     ...  \n",
       "2                         [1.4, World War II, 1.4.1]  \n",
       "3  [Europe, 1.4.2, Blitzkrieg         1.4.3, Oper...  \n",
       "4                                                 []  \n",
       "5  [Operation Overlord         1.4.6 Final days  ...  \n",
       "6  [Allied offensive         1.4.10 Final days   ...  \n",
       "7                             [The Nuclear Age, 1.5]  \n",
       "8                                            [1.5.1]  \n",
       "9                        [The Cold War, 1947â€“1991]  "
      ]
     },
     "execution_count": 5,
     "metadata": {},
     "output_type": "execute_result"
    }
   ],
   "source": [
    "df_sentences.head(10)"
   ]
  },
  {
   "cell_type": "code",
   "execution_count": 6,
   "id": "58100abc-e9de-46bf-8efe-991ce28037cc",
   "metadata": {},
   "outputs": [],
   "source": [
    "csv_filepath = r\"C:\\Users\\stefa\\20th-century\\countries_list_20th_century_1.5.csv\""
   ]
  },
  {
   "cell_type": "code",
   "execution_count": 7,
   "id": "4e37c24a-1732-4266-9313-39fec8465aed",
   "metadata": {},
   "outputs": [],
   "source": [
    "df = pd.read_csv(csv_filepath)"
   ]
  },
  {
   "cell_type": "code",
   "execution_count": 8,
   "id": "76056326-573f-4cb8-8123-a14b312442e0",
   "metadata": {},
   "outputs": [
    {
     "data": {
      "text/html": [
       "<div>\n",
       "<style scoped>\n",
       "    .dataframe tbody tr th:only-of-type {\n",
       "        vertical-align: middle;\n",
       "    }\n",
       "\n",
       "    .dataframe tbody tr th {\n",
       "        vertical-align: top;\n",
       "    }\n",
       "\n",
       "    .dataframe thead th {\n",
       "        text-align: right;\n",
       "    }\n",
       "</style>\n",
       "<table border=\"1\" class=\"dataframe\">\n",
       "  <thead>\n",
       "    <tr style=\"text-align: right;\">\n",
       "      <th></th>\n",
       "      <th>country_name</th>\n",
       "    </tr>\n",
       "  </thead>\n",
       "  <tbody>\n",
       "    <tr>\n",
       "      <th>0</th>\n",
       "      <td>Afghanistan</td>\n",
       "    </tr>\n",
       "    <tr>\n",
       "      <th>1</th>\n",
       "      <td>Albania</td>\n",
       "    </tr>\n",
       "    <tr>\n",
       "      <th>2</th>\n",
       "      <td>Algeria</td>\n",
       "    </tr>\n",
       "    <tr>\n",
       "      <th>3</th>\n",
       "      <td>Andorra</td>\n",
       "    </tr>\n",
       "    <tr>\n",
       "      <th>4</th>\n",
       "      <td>Angola</td>\n",
       "    </tr>\n",
       "    <tr>\n",
       "      <th>...</th>\n",
       "      <td>...</td>\n",
       "    </tr>\n",
       "    <tr>\n",
       "      <th>204</th>\n",
       "      <td>Sahrawi Arab Democratic Republic</td>\n",
       "    </tr>\n",
       "    <tr>\n",
       "      <th>205</th>\n",
       "      <td>Somaliland</td>\n",
       "    </tr>\n",
       "    <tr>\n",
       "      <th>206</th>\n",
       "      <td>South Ossetia</td>\n",
       "    </tr>\n",
       "    <tr>\n",
       "      <th>207</th>\n",
       "      <td>Taiwan</td>\n",
       "    </tr>\n",
       "    <tr>\n",
       "      <th>208</th>\n",
       "      <td>Transnistria</td>\n",
       "    </tr>\n",
       "  </tbody>\n",
       "</table>\n",
       "<p>209 rows × 1 columns</p>\n",
       "</div>"
      ],
      "text/plain": [
       "                             country_name\n",
       "0                            Afghanistan \n",
       "1                                Albania \n",
       "2                                Algeria \n",
       "3                                Andorra \n",
       "4                                 Angola \n",
       "..                                    ...\n",
       "204     Sahrawi Arab Democratic Republic \n",
       "205                           Somaliland \n",
       "206                        South Ossetia \n",
       "207                               Taiwan \n",
       "208                          Transnistria\n",
       "\n",
       "[209 rows x 1 columns]"
      ]
     },
     "execution_count": 8,
     "metadata": {},
     "output_type": "execute_result"
    }
   ],
   "source": [
    "df = df.drop('Unnamed: 0', axis=1)\n",
    "df"
   ]
  },
  {
   "cell_type": "code",
   "execution_count": 9,
   "id": "a59cc8a9-d258-4e41-a367-9d4435db6052",
   "metadata": {},
   "outputs": [
    {
     "name": "stdout",
     "output_type": "stream",
     "text": [
      "[' Afghanistan ', '  Albania ', '  Algeria ', '  Andorra ', '  Angola ', '  Antigua and Barbuda ', '  Argentina ', '  Armenia ', '  Australia ', '  Austria ', '  Azerbaijan', ' Bahamas, The ', '  Bahrain ', '  Bangladesh ', '  Barbados ', '  Belarus ', '  Belgium ', '  Belize ', '  Benin ', '  Bhutan ', '  Bolivia ', '  Bosnia and Herzegovina ', '  Botswana ', '  Brazil ', '  Brunei ', '  Bulgaria ', '  Burkina Faso ', '  Burundi', ' Cambodia ', '  Cameroon ', '  Canada ', '  Cape Verde ', '  Central African Republic ', '  Chad ', '  Chile ', \"  China, People's Republic of \", '  Colombia ', '  Comoros ', '  Congo, Democratic Republic of the ', '  Congo, Republic of the ', '  Costa Rica ', '  Croatia ', '  Cuba ', '  Cyprus ', '  Czech Republic', '  Denmark ', '   Djibouti ', '   Dominica ', '   Dominican Republic', '  East Timor ', '   Ecuador ', '   Egypt ', '   El Salvador ', '   Equatorial Guinea ', '   Eritrea ', '   Estonia ', '   Eswatini ', '   Ethiopia', '  Fiji ', '   Finland ', '   France', '  Gabon ', '   Gambia, The ', '   Georgia ', '   Germany ', '   Ghana ', '   Greece ', '   Grenada ', '   Guatemala ', '   Guinea ', '   Guinea', 'Bissau ', '   Guyana', '  Haiti ', '   Honduras ', '   Hungary', '  Iceland ', '   India ', '   Indonesia ', '   Iran ', '   Iraq ', '   Ireland ', '   Israel ', '   Italy ', '   Ivory Coast', '  Jamaica ', '   Japan ', '   Jordan', '  Kazakhstan ', '   Kenya ', '   Kiribati ', '   Korea, North ', '   Korea, South ', '   Kuwait ', '   Kyrgyzstan', '  Laos ', '   Latvia ', '   Lebanon ', '   Lesotho ', '   Liberia ', '   Libya ', '   Liechtenstein ', '   Lithuania ', '   Luxembourg', '  Madagascar ', '   Malawi ', '   Malaysia ', '   Maldives ', '   Mali ', '   Malta ', '   Marshall Islands ', '   Mauritania ', '   Mauritius ', '   Mexico ', '   Micronesia, Federated States of ', '   Moldova ', '   Monaco ', '   Mongolia ', '   Montenegro ', '   Morocco ', '   Mozambique ', '   Myanmar', '  Namibia ', '   Nauru ', '     Nepal ', '   Netherlands ', '   New Zealand ', '   Nicaragua ', '   Niger ', '   Nigeria ', '   North Macedonia ', '   Norway', '  Oman', '  Pakistan ', '   Palau ', '   Palestine ', '   Panama ', '   Papua New Guinea ', '   Paraguay ', '   Peru ', '   Philippines ', '   Poland ', '   Portugal', '  Qatar', '  Romania ', '   Russia ', '   Rwanda', '  Saint Kitts and Nevis ', '   Saint Lucia ', '   Saint Vincent and the Grenadines ', '   Samoa ', '   San Marino ', '   São Tomé and Príncipe ', '   Saudi Arabia ', '   Senegal ', '   Serbia ', '   Seychelles ', '   Sierra Leone ', '   Singapore ', '   Slovakia ', '   Slovenia ', '   Solomon Islands ', '   Somalia ', '   South Africa ', '   South Sudan ', '   Spain ', '   Sri Lanka ', '   Sudan ', '   Suriname ', '   Sweden ', '    Switzerland ', '   Syria', '  Tajikistan ', '   Tanzania ', '   Thailand ', '   Togo ', '   Tonga ', '   Trinidad and Tobago ', '   Tunisia ', '   Turkey ', '   Turkmenistan ', '   Tuvalu', '  Uganda ', '   Ukraine ', '   United Arab Emirates ', '   United Kingdom ', '   United States ', '   Uruguay ', '   Uzbekistan', '  Vanuatu ', '    Vatican City (Holy See) ', '   Venezuela ', '   Vietnam', '  Yemen', '  Zambia ', '   Zimbabwe', '  Abkhazia ', '   Artsakh ', '   Cook Islands ', \"   Donetsk People's Republic \", '   Kosovo ', \"   Luhansk People's Republic \", '   Niue ', '   Northern Cyprus ', '   Sahrawi Arab Democratic Republic ', '   Somaliland ', '   South Ossetia ', '   Taiwan ', '   Transnistria']\n"
     ]
    }
   ],
   "source": [
    "df_2 = df['country_name'].tolist()\n",
    "print(df_2)"
   ]
  },
  {
   "cell_type": "code",
   "execution_count": 10,
   "id": "ab882448-a980-41ba-934a-72dc90b023a5",
   "metadata": {},
   "outputs": [],
   "source": [
    "df_new = [item.strip() for item in df_2] "
   ]
  },
  {
   "cell_type": "code",
   "execution_count": null,
   "id": "62e97b06-24c1-4914-b5e0-415ec8e63a1a",
   "metadata": {},
   "outputs": [],
   "source": [
    "df_new"
   ]
  },
  {
   "cell_type": "code",
   "execution_count": 11,
   "id": "fd8006e7-5399-4aa7-a6a9-e88cc274b194",
   "metadata": {},
   "outputs": [],
   "source": [
    "def filter_entity(ent_list, df_new):\n",
    "       return [ent for ent in ent_list\n",
    "                  if ent in list(df_new['country_name'])]"
   ]
  },
  {
   "cell_type": "markdown",
   "id": "4c4fe828-0a3d-497f-9726-62896cc602a9",
   "metadata": {},
   "source": [
    "def filter_entity(ent_list, df_2):\n",
    "       return [ent for ent in ent_list\n",
    "                  if ent in list(df_2['country_name'])]"
   ]
  },
  {
   "cell_type": "code",
   "execution_count": 12,
   "id": "3d55b8f3-f629-4950-8190-bac3b1868db4",
   "metadata": {},
   "outputs": [
    {
     "ename": "TypeError",
     "evalue": "list indices must be integers or slices, not str",
     "output_type": "error",
     "traceback": [
      "\u001b[1;31m---------------------------------------------------------------------------\u001b[0m",
      "\u001b[1;31mTypeError\u001b[0m                                 Traceback (most recent call last)",
      "\u001b[1;32m~\\AppData\\Local\\Temp\\ipykernel_27704\\3527405408.py\u001b[0m in \u001b[0;36m<module>\u001b[1;34m\u001b[0m\n\u001b[1;32m----> 1\u001b[1;33m \u001b[0mdf_sentences\u001b[0m\u001b[1;33m[\u001b[0m\u001b[1;34m'country_entities'\u001b[0m\u001b[1;33m]\u001b[0m \u001b[1;33m=\u001b[0m \u001b[0mdf_sentences\u001b[0m\u001b[1;33m[\u001b[0m\u001b[1;34m'entities'\u001b[0m\u001b[1;33m]\u001b[0m\u001b[1;33m.\u001b[0m\u001b[0mapply\u001b[0m\u001b[1;33m(\u001b[0m\u001b[1;32mlambda\u001b[0m \u001b[0mx\u001b[0m\u001b[1;33m:\u001b[0m \u001b[0mfilter_entity\u001b[0m\u001b[1;33m(\u001b[0m\u001b[0mx\u001b[0m\u001b[1;33m,\u001b[0m \u001b[0mdf_new\u001b[0m\u001b[1;33m)\u001b[0m\u001b[1;33m)\u001b[0m\u001b[1;33m\u001b[0m\u001b[1;33m\u001b[0m\u001b[0m\n\u001b[0m",
      "\u001b[1;32m~\\anaconda3\\envs\\20th_century\\Lib\\site-packages\\pandas\\core\\series.py\u001b[0m in \u001b[0;36mapply\u001b[1;34m(self, func, convert_dtype, args, by_row, **kwargs)\u001b[0m\n\u001b[0;32m   4941\u001b[0m             \u001b[0margs\u001b[0m\u001b[1;33m=\u001b[0m\u001b[0margs\u001b[0m\u001b[1;33m,\u001b[0m\u001b[1;33m\u001b[0m\u001b[1;33m\u001b[0m\u001b[0m\n\u001b[0;32m   4942\u001b[0m             \u001b[0mkwargs\u001b[0m\u001b[1;33m=\u001b[0m\u001b[0mkwargs\u001b[0m\u001b[1;33m,\u001b[0m\u001b[1;33m\u001b[0m\u001b[1;33m\u001b[0m\u001b[0m\n\u001b[1;32m-> 4943\u001b[1;33m         \u001b[1;33m)\u001b[0m\u001b[1;33m.\u001b[0m\u001b[0mapply\u001b[0m\u001b[1;33m(\u001b[0m\u001b[1;33m)\u001b[0m\u001b[1;33m\u001b[0m\u001b[1;33m\u001b[0m\u001b[0m\n\u001b[0m\u001b[0;32m   4944\u001b[0m \u001b[1;33m\u001b[0m\u001b[0m\n\u001b[0;32m   4945\u001b[0m     def _reindex_indexer(\n",
      "\u001b[1;32m~\\anaconda3\\envs\\20th_century\\Lib\\site-packages\\pandas\\core\\apply.py\u001b[0m in \u001b[0;36mapply\u001b[1;34m(self)\u001b[0m\n\u001b[0;32m   1420\u001b[0m \u001b[1;33m\u001b[0m\u001b[0m\n\u001b[0;32m   1421\u001b[0m         \u001b[1;31m# self.func is Callable\u001b[0m\u001b[1;33m\u001b[0m\u001b[1;33m\u001b[0m\u001b[0m\n\u001b[1;32m-> 1422\u001b[1;33m         \u001b[1;32mreturn\u001b[0m \u001b[0mself\u001b[0m\u001b[1;33m.\u001b[0m\u001b[0mapply_standard\u001b[0m\u001b[1;33m(\u001b[0m\u001b[1;33m)\u001b[0m\u001b[1;33m\u001b[0m\u001b[1;33m\u001b[0m\u001b[0m\n\u001b[0m\u001b[0;32m   1423\u001b[0m \u001b[1;33m\u001b[0m\u001b[0m\n\u001b[0;32m   1424\u001b[0m     \u001b[1;32mdef\u001b[0m \u001b[0magg\u001b[0m\u001b[1;33m(\u001b[0m\u001b[0mself\u001b[0m\u001b[1;33m)\u001b[0m\u001b[1;33m:\u001b[0m\u001b[1;33m\u001b[0m\u001b[1;33m\u001b[0m\u001b[0m\n",
      "\u001b[1;32m~\\anaconda3\\envs\\20th_century\\Lib\\site-packages\\pandas\\core\\apply.py\u001b[0m in \u001b[0;36mapply_standard\u001b[1;34m(self)\u001b[0m\n\u001b[0;32m   1500\u001b[0m         \u001b[1;31m#  Categorical (GH51645).\u001b[0m\u001b[1;33m\u001b[0m\u001b[1;33m\u001b[0m\u001b[0m\n\u001b[0;32m   1501\u001b[0m         \u001b[0maction\u001b[0m \u001b[1;33m=\u001b[0m \u001b[1;34m\"ignore\"\u001b[0m \u001b[1;32mif\u001b[0m \u001b[0misinstance\u001b[0m\u001b[1;33m(\u001b[0m\u001b[0mobj\u001b[0m\u001b[1;33m.\u001b[0m\u001b[0mdtype\u001b[0m\u001b[1;33m,\u001b[0m \u001b[0mCategoricalDtype\u001b[0m\u001b[1;33m)\u001b[0m \u001b[1;32melse\u001b[0m \u001b[1;32mNone\u001b[0m\u001b[1;33m\u001b[0m\u001b[1;33m\u001b[0m\u001b[0m\n\u001b[1;32m-> 1502\u001b[1;33m         mapped = obj._map_values(\n\u001b[0m\u001b[0;32m   1503\u001b[0m             \u001b[0mmapper\u001b[0m\u001b[1;33m=\u001b[0m\u001b[0mcurried\u001b[0m\u001b[1;33m,\u001b[0m \u001b[0mna_action\u001b[0m\u001b[1;33m=\u001b[0m\u001b[0maction\u001b[0m\u001b[1;33m,\u001b[0m \u001b[0mconvert\u001b[0m\u001b[1;33m=\u001b[0m\u001b[0mself\u001b[0m\u001b[1;33m.\u001b[0m\u001b[0mconvert_dtype\u001b[0m\u001b[1;33m\u001b[0m\u001b[1;33m\u001b[0m\u001b[0m\n\u001b[0;32m   1504\u001b[0m         \u001b[1;33m)\u001b[0m\u001b[1;33m\u001b[0m\u001b[1;33m\u001b[0m\u001b[0m\n",
      "\u001b[1;32m~\\anaconda3\\envs\\20th_century\\Lib\\site-packages\\pandas\\core\\base.py\u001b[0m in \u001b[0;36m_map_values\u001b[1;34m(self, mapper, na_action, convert)\u001b[0m\n\u001b[0;32m    923\u001b[0m             \u001b[1;32mreturn\u001b[0m \u001b[0marr\u001b[0m\u001b[1;33m.\u001b[0m\u001b[0mmap\u001b[0m\u001b[1;33m(\u001b[0m\u001b[0mmapper\u001b[0m\u001b[1;33m,\u001b[0m \u001b[0mna_action\u001b[0m\u001b[1;33m=\u001b[0m\u001b[0mna_action\u001b[0m\u001b[1;33m)\u001b[0m\u001b[1;33m\u001b[0m\u001b[1;33m\u001b[0m\u001b[0m\n\u001b[0;32m    924\u001b[0m \u001b[1;33m\u001b[0m\u001b[0m\n\u001b[1;32m--> 925\u001b[1;33m         \u001b[1;32mreturn\u001b[0m \u001b[0malgorithms\u001b[0m\u001b[1;33m.\u001b[0m\u001b[0mmap_array\u001b[0m\u001b[1;33m(\u001b[0m\u001b[0marr\u001b[0m\u001b[1;33m,\u001b[0m \u001b[0mmapper\u001b[0m\u001b[1;33m,\u001b[0m \u001b[0mna_action\u001b[0m\u001b[1;33m=\u001b[0m\u001b[0mna_action\u001b[0m\u001b[1;33m,\u001b[0m \u001b[0mconvert\u001b[0m\u001b[1;33m=\u001b[0m\u001b[0mconvert\u001b[0m\u001b[1;33m)\u001b[0m\u001b[1;33m\u001b[0m\u001b[1;33m\u001b[0m\u001b[0m\n\u001b[0m\u001b[0;32m    926\u001b[0m \u001b[1;33m\u001b[0m\u001b[0m\n\u001b[0;32m    927\u001b[0m     \u001b[1;33m@\u001b[0m\u001b[0mfinal\u001b[0m\u001b[1;33m\u001b[0m\u001b[1;33m\u001b[0m\u001b[0m\n",
      "\u001b[1;32m~\\anaconda3\\envs\\20th_century\\Lib\\site-packages\\pandas\\core\\algorithms.py\u001b[0m in \u001b[0;36mmap_array\u001b[1;34m(arr, mapper, na_action, convert)\u001b[0m\n\u001b[0;32m   1741\u001b[0m     \u001b[0mvalues\u001b[0m \u001b[1;33m=\u001b[0m \u001b[0marr\u001b[0m\u001b[1;33m.\u001b[0m\u001b[0mastype\u001b[0m\u001b[1;33m(\u001b[0m\u001b[0mobject\u001b[0m\u001b[1;33m,\u001b[0m \u001b[0mcopy\u001b[0m\u001b[1;33m=\u001b[0m\u001b[1;32mFalse\u001b[0m\u001b[1;33m)\u001b[0m\u001b[1;33m\u001b[0m\u001b[1;33m\u001b[0m\u001b[0m\n\u001b[0;32m   1742\u001b[0m     \u001b[1;32mif\u001b[0m \u001b[0mna_action\u001b[0m \u001b[1;32mis\u001b[0m \u001b[1;32mNone\u001b[0m\u001b[1;33m:\u001b[0m\u001b[1;33m\u001b[0m\u001b[1;33m\u001b[0m\u001b[0m\n\u001b[1;32m-> 1743\u001b[1;33m         \u001b[1;32mreturn\u001b[0m \u001b[0mlib\u001b[0m\u001b[1;33m.\u001b[0m\u001b[0mmap_infer\u001b[0m\u001b[1;33m(\u001b[0m\u001b[0mvalues\u001b[0m\u001b[1;33m,\u001b[0m \u001b[0mmapper\u001b[0m\u001b[1;33m,\u001b[0m \u001b[0mconvert\u001b[0m\u001b[1;33m=\u001b[0m\u001b[0mconvert\u001b[0m\u001b[1;33m)\u001b[0m\u001b[1;33m\u001b[0m\u001b[1;33m\u001b[0m\u001b[0m\n\u001b[0m\u001b[0;32m   1744\u001b[0m     \u001b[1;32melse\u001b[0m\u001b[1;33m:\u001b[0m\u001b[1;33m\u001b[0m\u001b[1;33m\u001b[0m\u001b[0m\n\u001b[0;32m   1745\u001b[0m         return lib.map_infer_mask(\n",
      "\u001b[1;32mpandas/_libs/lib.pyx\u001b[0m in \u001b[0;36mpandas._libs.lib.map_infer\u001b[1;34m()\u001b[0m\n",
      "\u001b[1;32m~\\AppData\\Local\\Temp\\ipykernel_27704\\3527405408.py\u001b[0m in \u001b[0;36m<lambda>\u001b[1;34m(x)\u001b[0m\n\u001b[1;32m----> 1\u001b[1;33m \u001b[0mdf_sentences\u001b[0m\u001b[1;33m[\u001b[0m\u001b[1;34m'country_entities'\u001b[0m\u001b[1;33m]\u001b[0m \u001b[1;33m=\u001b[0m \u001b[0mdf_sentences\u001b[0m\u001b[1;33m[\u001b[0m\u001b[1;34m'entities'\u001b[0m\u001b[1;33m]\u001b[0m\u001b[1;33m.\u001b[0m\u001b[0mapply\u001b[0m\u001b[1;33m(\u001b[0m\u001b[1;32mlambda\u001b[0m \u001b[0mx\u001b[0m\u001b[1;33m:\u001b[0m \u001b[0mfilter_entity\u001b[0m\u001b[1;33m(\u001b[0m\u001b[0mx\u001b[0m\u001b[1;33m,\u001b[0m \u001b[0mdf_new\u001b[0m\u001b[1;33m)\u001b[0m\u001b[1;33m)\u001b[0m\u001b[1;33m\u001b[0m\u001b[1;33m\u001b[0m\u001b[0m\n\u001b[0m",
      "\u001b[1;32m~\\AppData\\Local\\Temp\\ipykernel_27704\\198729303.py\u001b[0m in \u001b[0;36mfilter_entity\u001b[1;34m(ent_list, df_new)\u001b[0m\n\u001b[0;32m      1\u001b[0m \u001b[1;32mdef\u001b[0m \u001b[0mfilter_entity\u001b[0m\u001b[1;33m(\u001b[0m\u001b[0ment_list\u001b[0m\u001b[1;33m,\u001b[0m \u001b[0mdf_new\u001b[0m\u001b[1;33m)\u001b[0m\u001b[1;33m:\u001b[0m\u001b[1;33m\u001b[0m\u001b[1;33m\u001b[0m\u001b[0m\n\u001b[0;32m      2\u001b[0m        return [ent for ent in ent_list\n\u001b[1;32m----> 3\u001b[1;33m                   \u001b[1;32mif\u001b[0m \u001b[0ment\u001b[0m \u001b[1;32min\u001b[0m \u001b[0mlist\u001b[0m\u001b[1;33m(\u001b[0m\u001b[0mdf_new\u001b[0m\u001b[1;33m[\u001b[0m\u001b[1;34m'country_name'\u001b[0m\u001b[1;33m]\u001b[0m\u001b[1;33m)\u001b[0m\u001b[1;33m]\u001b[0m\u001b[1;33m\u001b[0m\u001b[1;33m\u001b[0m\u001b[0m\n\u001b[0m",
      "\u001b[1;31mTypeError\u001b[0m: list indices must be integers or slices, not str"
     ]
    }
   ],
   "source": [
    "df_sentences['country_entities'] = df_sentences['entities'].apply(lambda x: filter_entity(x, df_new))"
   ]
  },
  {
   "cell_type": "markdown",
   "id": "c8fba57d-57b5-46b0-8d39-a0f748cd261f",
   "metadata": {},
   "source": [
    "df_sentences['country_entities'] = df_sentences['entities'].apply(lambda x: filter_entity(x, df_2))"
   ]
  },
  {
   "cell_type": "code",
   "execution_count": null,
   "id": "559cedad-ffe1-4631-a587-d4cf9717d6e6",
   "metadata": {},
   "outputs": [],
   "source": [
    "# Filter out sentences that don’t have any character entities\n",
    "\n",
    "df_sentences_filtered = df_sentences[df_sentences['country_entities'].map(len) > 0]\n",
    "\n",
    "df_sentences_filtered.tail(10)"
   ]
  }
 ],
 "metadata": {
  "kernelspec": {
   "display_name": "Python 20th-century",
   "language": "python",
   "name": "20th_century"
  },
  "language_info": {
   "codemirror_mode": {
    "name": "ipython",
    "version": 3
   },
   "file_extension": ".py",
   "mimetype": "text/x-python",
   "name": "python",
   "nbconvert_exporter": "python",
   "pygments_lexer": "ipython3",
   "version": "3.13.7"
  }
 },
 "nbformat": 4,
 "nbformat_minor": 5
}
